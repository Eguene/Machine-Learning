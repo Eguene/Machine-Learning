{
 "cells": [
  {
   "cell_type": "code",
   "execution_count": 4,
   "id": "5f29f2ae",
   "metadata": {},
   "outputs": [],
   "source": [
    "#Давидов Євген Денисович, ФІТ-4-6, Варіант 4\n",
    "import pandas as pd\n",
    "import numpy as np\n",
    "import matplotlib.pyplot as plt\n",
    "import seaborn as sns\n",
    "from sklearn import datasets\n",
    "from sklearn. model_selection import train_test_split\n",
    "from sklearn.svm import SVC\n",
    "from sklearn.metrics import accuracy_score\n",
    "from sklearn.preprocessing import StandardScaler\n",
    "from sklearn.ensemble import RandomForestClassifier\n",
    "from sklearn.metrics import recall_score\n",
    "from sklearn.preprocessing import StandardScaler"
   ]
  },
  {
   "cell_type": "code",
   "execution_count": 5,
   "id": "b69a3249",
   "metadata": {},
   "outputs": [],
   "source": [
    "#Завдання 1. Класифікація ірисів\n",
    "#З використанням алгоритмів SVM та Random Forest провести класифікацію ірисів за їхніми ознаками. \n",
    "#Використовувати набір даних Iris, що належить бібліотеці scikit-learn. "
   ]
  },
  {
   "cell_type": "code",
   "execution_count": 6,
   "id": "18434f30",
   "metadata": {},
   "outputs": [],
   "source": [
    "#Завантажити набір даних Iris з бібліотеки scikit-learn.\n",
    "iris = datasets.load_iris()\n",
    "X = iris.data[:, :2]\n",
    "y = iris.target"
   ]
  },
  {
   "cell_type": "code",
   "execution_count": 7,
   "id": "0fa48bcb",
   "metadata": {},
   "outputs": [],
   "source": [
    "#Розділити дані на тренувальний та тестовий набори.\n",
    "X_train, X_test, y_train, y_test = train_test_split(X, y, random_state = 42, test_size=0.2)"
   ]
  },
  {
   "cell_type": "code",
   "execution_count": 8,
   "id": "867e39cb",
   "metadata": {},
   "outputs": [
    {
     "name": "stdout",
     "output_type": "stream",
     "text": [
      "SVM:  0.9\n"
     ]
    }
   ],
   "source": [
    "#Застосувати алгоритм SVM для класифікації даних та визначити його точність.\n",
    "SVMclassifier = SVC(kernel='rbf', random_state = 42)\n",
    "SVMclassifier.fit(X_train, y_train)\n",
    "SMVclassifier_prediction = SVMclassifier.predict(X_test)\n",
    "print(\"SVM: \", accuracy_score(y_test, SMVclassifier_prediction))"
   ]
  },
  {
   "cell_type": "code",
   "execution_count": 9,
   "id": "f32da2b3",
   "metadata": {},
   "outputs": [
    {
     "name": "stdout",
     "output_type": "stream",
     "text": [
      "RandomForest:  0.8\n"
     ]
    }
   ],
   "source": [
    "#Застосувати Random Forest для класифікації даних та визначити його точність.\n",
    "RFclassifier = RandomForestClassifier()\n",
    "RFclassifier.fit(X_train, y_train)\n",
    "RFclassifier_prediction = RFclassifier.predict(X_test)\n",
    "print(\"RandomForest: \", accuracy_score(y_test, RFclassifier_prediction))"
   ]
  },
  {
   "cell_type": "code",
   "execution_count": 10,
   "id": "0e61b4f6",
   "metadata": {},
   "outputs": [],
   "source": [
    "#Порівняти результати обох алгоритмів та обговорити їхню ефективність.\n",
    "#Алгоритм SVM показав вищу точність, ніж RandomForest. Алгоритм SVM кожного разу дає однаковий результат, \n",
    "#а резульати RandomForest коливаються у рамках 0.3"
   ]
  },
  {
   "cell_type": "code",
   "execution_count": 11,
   "id": "bd1d7905",
   "metadata": {},
   "outputs": [],
   "source": [
    "#Висновок: алгоритм SVM розділяє дані на дві окреемі групи та пробує \"намалювати\" лінію, що ідеально розмежує дві групи даних. \n",
    "#RandomForest розбиває групи даних на менші за різними ознаками, доки у кожній групі не лишиться по одній, після чого створює прогноз, базуючись на усіх отриманих деревах"
   ]
  },
  {
   "cell_type": "code",
   "execution_count": null,
   "id": "e6795907",
   "metadata": {},
   "outputs": [],
   "source": [
    "#Тема ВКР: “Проектування та розробка Web-ресурсу \"Телефонний довідник університету\"”"
   ]
  }
 ],
 "metadata": {
  "kernelspec": {
   "display_name": "Python 3 (ipykernel)",
   "language": "python",
   "name": "python3"
  },
  "language_info": {
   "codemirror_mode": {
    "name": "ipython",
    "version": 3
   },
   "file_extension": ".py",
   "mimetype": "text/x-python",
   "name": "python",
   "nbconvert_exporter": "python",
   "pygments_lexer": "ipython3",
   "version": "3.10.9"
  }
 },
 "nbformat": 4,
 "nbformat_minor": 5
}
