{
 "cells": [
  {
   "cell_type": "code",
   "execution_count": 2,
   "id": "7bd780e9",
   "metadata": {},
   "outputs": [],
   "source": [
    "#З якоїсь причини у цьому коді при спробі побудувати графік ядро Юпітера помирає та код не виконується\n",
    "#У попередній лабораторній subplots будувалися без помилок, рішення з sttackoverflow не допомогли\n",
    "\n",
    "#Колаб видає помилку у блоці коду №8(тренування мережі):\n",
    "#Attempt to convert a value (None) with an unsupported type (<class 'NoneType'>) to a Tensor.\n",
    "import numpy as np\n",
    "import pandas as pd\n",
    "import tensorflow as tf\n",
    "import matplotlib as plt\n",
    "from tensorflow.keras.datasets import mnist"
   ]
  },
  {
   "cell_type": "code",
   "execution_count": 3,
   "id": "087af26e",
   "metadata": {},
   "outputs": [],
   "source": [
    "num_classes = 10\n",
    "num_features = 784\n",
    "learning_rate = 0.001\n",
    "training_steps = 3000\n",
    "batch_size = 256\n",
    "display_step = 100\n",
    "n_hidden_1 = 128\n",
    "n_hidden_2 = 256"
   ]
  },
  {
   "cell_type": "code",
   "execution_count": 4,
   "id": "8a84a423",
   "metadata": {},
   "outputs": [],
   "source": [
    "(x_train, y_train), (x_test, y_test) = mnist.load_data()\n",
    "x_train, x_test = np.array(x_train, np.float32), np.array(x_test, np.float32)\n",
    "x_train, x_test = x_train.reshape([-1, num_features]), x_test.reshape([-1, num_features])\n",
    "x_train, x_test = x_train / 255., x_test / 255.\n",
    "\n",
    "train_data = tf.data.Dataset.from_tensor_slices((x_train, y_train))\n",
    "train_data = train_data.repeat().shuffle(5000).batch(batch_size).prefetch(1)"
   ]
  },
  {
   "cell_type": "code",
   "execution_count": 5,
   "id": "3cc564a9",
   "metadata": {},
   "outputs": [],
   "source": [
    "class DenseLayer(tf.Module):\n",
    "    def __init__(self, in_features, out_features, name=None):\n",
    "        super().__init__(name=name)\n",
    "        self.w = tf.Variable(\n",
    "            tf.random.normal([in_features, out_features]), name=\"w\"\n",
    "        )\n",
    "        self.b = tf.Variable(tf.zeros([out_features]), name=\"b\")\n",
    "\n",
    "    def __call__(self, x, activation=0):\n",
    "        y = tf.matmul(x, self.w) + self.b\n",
    "        if activation != 0:\n",
    "            return tf.nn.softmax(y)\n",
    "        else:\n",
    "            return tf.nn.sigmoid(y)\n",
    "\n",
    "\n",
    "class NN(tf.Module):\n",
    "  def __init__(self, name=None):\n",
    "    super().__init__(name=name)\n",
    "    self.layer_1 = DenseLayer(in_features=num_features, out_features=n_hidden_1)\n",
    "    self.layer_2 = DenseLayer(in_features=n_hidden_1, out_features=n_hidden_2)\n",
    "    self.layer_3 = DenseLayer(in_features=n_hidden_2, out_features=num_classes)\n",
    "\n",
    "  def __call__(self, x):\n",
    "    x1 = self.layer_1(x, activation=0)\n",
    "    x2 = self.layer_2(x1, activation=0)\n",
    "    x3 = self.layer_3(x2, activation=1)\n",
    "    return x3"
   ]
  },
  {
   "cell_type": "code",
   "execution_count": 6,
   "id": "f378f4ce",
   "metadata": {},
   "outputs": [],
   "source": [
    "def cross_entropy(y_pred, y_true):\n",
    "    y_true = tf.one_hot(y_true, depth=num_classes)\n",
    "    y_pred = tf.clip_by_value(y_pred, 1e-9, 1.)\n",
    "    return tf.reduce_mean(-tf.reduce_sum(y_true * tf.math.log(y_pred)))\n",
    "\n",
    "def accuracy(y_pred, y_true):\n",
    "    acc = tf.metrics.Accuracy()\n",
    "    acc.update_state(y_true, tf.argmax(y_pred, axis=1))\n",
    "    return acc.result()"
   ]
  },
  {
   "cell_type": "code",
   "execution_count": 7,
   "id": "554cba02",
   "metadata": {},
   "outputs": [],
   "source": [
    "neural_net = NN(name=\"mnist\")\n",
    "\n",
    "def train(nn, input_x, output_y):\n",
    "  optimizer = tf.optimizers.SGD(learning_rate)\n",
    "  with tf.GradientTape() as g:\n",
    "    pred = neural_net(input_x)\n",
    "    loss = cross_entropy(pred, output_y)\n",
    "    \n",
    "    trainable_variables = nn.trainable_variables\n",
    "    gradients = g.gradient(loss, trainable_variables)\n",
    "    optimizer.apply_gradients(zip(gradients, trainable_variables))"
   ]
  },
  {
   "cell_type": "code",
   "execution_count": 8,
   "id": "53c1f362",
   "metadata": {},
   "outputs": [
    {
     "name": "stdout",
     "output_type": "stream",
     "text": [
      "Step: 0, Loss: 2414.99169921875, Accuracy: 0.08203125\n",
      "Step: 100, Loss: 359.6050109863281, Accuracy: 0.66015625\n",
      "Step: 200, Loss: 161.2314453125, Accuracy: 0.80859375\n",
      "Step: 300, Loss: 177.51800537109375, Accuracy: 0.79296875\n",
      "Step: 400, Loss: 228.4430389404297, Accuracy: 0.796875\n",
      "Step: 500, Loss: 150.48651123046875, Accuracy: 0.8125\n",
      "Step: 600, Loss: 110.1222152709961, Accuracy: 0.859375\n",
      "Step: 700, Loss: 137.86660766601562, Accuracy: 0.84375\n",
      "Step: 800, Loss: 105.77922058105469, Accuracy: 0.8984375\n",
      "Step: 900, Loss: 117.264892578125, Accuracy: 0.859375\n",
      "Step: 1000, Loss: 91.23553466796875, Accuracy: 0.8984375\n",
      "Step: 1100, Loss: 85.75437927246094, Accuracy: 0.90625\n",
      "Step: 1200, Loss: 88.54682159423828, Accuracy: 0.890625\n",
      "Step: 1300, Loss: 99.02114868164062, Accuracy: 0.88671875\n",
      "Step: 1400, Loss: 75.54603576660156, Accuracy: 0.9453125\n",
      "Step: 1500, Loss: 77.38594818115234, Accuracy: 0.9296875\n",
      "Step: 1600, Loss: 83.52347564697266, Accuracy: 0.90234375\n",
      "Step: 1700, Loss: 65.01136779785156, Accuracy: 0.921875\n",
      "Step: 1800, Loss: 89.90116882324219, Accuracy: 0.87890625\n",
      "Step: 1900, Loss: 88.23430633544922, Accuracy: 0.89453125\n",
      "Step: 2000, Loss: 92.98027038574219, Accuracy: 0.88671875\n",
      "Step: 2100, Loss: 69.37289428710938, Accuracy: 0.91796875\n",
      "Step: 2200, Loss: 83.78987884521484, Accuracy: 0.9140625\n",
      "Step: 2300, Loss: 81.55522155761719, Accuracy: 0.91015625\n",
      "Step: 2400, Loss: 67.59219360351562, Accuracy: 0.92578125\n"
     ]
    }
   ],
   "source": [
    "loss_history = []\n",
    "accuracy_history = []\n",
    "\n",
    "for step, (batch_x, batch_y) in enumerate(train_data.take(training_steps)):\n",
    "    train(neural_net, batch_x, batch_y)\n",
    "    \n",
    "    if step % display_step == 0:\n",
    "        pred = neural_net(batch_x)\n",
    "        current_loss = cross_entropy(pred, batch_y)\n",
    "        loss_history.append(current_loss)\n",
    "        \n",
    "        current_accuracy = accuracy(pred, batch_y)\n",
    "        accuracy_history.append(current_accuracy)\n",
    "        print(f\"Step: {step}, Loss: {current_loss}, Accuracy: {current_accuracy}\")"
   ]
  },
  {
   "cell_type": "code",
   "execution_count": 4,
   "id": "3385fb6b",
   "metadata": {},
   "outputs": [
    {
     "data": {
      "text/plain": [
       "'\\nfig, axs = plt.subplots(figsize=(16, 10))\\naxs.plot(loss_history, \\'r\\', label=\\'loss\\', linestyle=\":\")\\naxs.legend()\\n\\naxs2=axs.twinx()\\naxs2.plot(accuracy_history, \\'b\\', label=\\'accuracy\\', linestyle=\":\")\\nplt.legend()\\n\\nplt.title(\\'Залежності зміни точності та втрат від кроку\\', fontsize=20, color=\\'g\\')\\nplt.show()\\n'"
      ]
     },
     "execution_count": 4,
     "metadata": {},
     "output_type": "execute_result"
    }
   ],
   "source": [
    "#Смерть ядра\n",
    "\"\"\"\n",
    "fig, axs = plt.subplots(figsize=(16, 10))\n",
    "axs.plot(loss_history, 'r', label='loss', linestyle=\":\")\n",
    "axs.legend()\n",
    "\n",
    "axs2=axs.twinx()\n",
    "axs2.plot(accuracy_history, 'b', label='accuracy', linestyle=\":\")\n",
    "plt.legend()\n",
    "\n",
    "plt.title('Залежності зміни точності та втрат від кроку', fontsize=20, color='g')\n",
    "plt.show()\n",
    "\"\"\""
   ]
  },
  {
   "cell_type": "code",
   "execution_count": 9,
   "id": "0732e532",
   "metadata": {},
   "outputs": [
    {
     "name": "stdout",
     "output_type": "stream",
     "text": [
      "Accuracy: 0.9200833439826965\n"
     ]
    }
   ],
   "source": [
    "neural_net_accuracy = accuracy(neural_net(x_train), y_train)\n",
    "print(f\"Accuracy: {neural_net_accuracy}\")"
   ]
  },
  {
   "cell_type": "code",
   "execution_count": null,
   "id": "5180ad0a",
   "metadata": {},
   "outputs": [
    {
     "name": "stdout",
     "output_type": "stream",
     "text": [
      "True: 3 Predict: 7 False\n"
     ]
    }
   ],
   "source": [
    "test_img = np.random.permutation(x_test.shape[0])[:10]\n",
    "y_test_true = y_test[test_img]\n",
    "pred_data = [np.argmax(x) for x in neural_net(x_test[test_img])]\n",
    "\n",
    "#Смерть ядра\n",
    "\"\"\"\n",
    "plt.figure(figsize=(16, 6))\n",
    "for i in range(10):\n",
    "    print(f\"True: {y_test_true[i]} Predict: {pred_data[i]} {True if y_test_true[i] - pred_data[i] == 0 else False}\")\n",
    "    plt.subplot(1, 10, (i + 1))\n",
    "    plt.imshow(x_test[test_img[i]].reshape(28, 28), cmap='gray')\n",
    "    plt.text(x=10, y=-10, s=pred_data[i], fontsize=18)\n",
    "    \n",
    "plt.tight_layout()\n",
    "plt.show()\n",
    "\"\"\""
   ]
  },
  {
   "cell_type": "code",
   "execution_count": null,
   "id": "20345587",
   "metadata": {},
   "outputs": [],
   "source": []
  }
 ],
 "metadata": {
  "kernelspec": {
   "display_name": "Python 3 (ipykernel)",
   "language": "python",
   "name": "python3"
  },
  "language_info": {
   "codemirror_mode": {
    "name": "ipython",
    "version": 3
   },
   "file_extension": ".py",
   "mimetype": "text/x-python",
   "name": "python",
   "nbconvert_exporter": "python",
   "pygments_lexer": "ipython3",
   "version": "3.10.13"
  }
 },
 "nbformat": 4,
 "nbformat_minor": 5
}
