{
 "cells": [
  {
   "cell_type": "code",
   "execution_count": 1,
   "id": "7bd780e9",
   "metadata": {},
   "outputs": [],
   "source": [
    "#З якоїсь причини у цьому коді при спробі побудувати графік ядро Юпітера помирає та код не виконується\n",
    "#У попередній лабораторній subplots будувалися без помилок, рішення з sttackoverflow не допомогли\n",
    "\n",
    "#Колаб видає помилку у блоці коду №8(тренування мережі):\n",
    "#Attempt to convert a value (None) with an unsupported type (<class 'NoneType'>) to a Tensor.\n",
    "import numpy as np\n",
    "import pandas as pd\n",
    "import tensorflow as tf\n",
    "import matplotlib as plt\n",
    "from tensorflow.keras.datasets import mnist\n",
    "from tensorflow.keras.datasets import fashion_mnist"
   ]
  },
  {
   "cell_type": "code",
   "execution_count": 2,
   "id": "087af26e",
   "metadata": {},
   "outputs": [],
   "source": [
    "num_classes = 10\n",
    "num_features = 784\n",
    "learning_rate = 0.001\n",
    "training_steps = 3000\n",
    "batch_size = 256\n",
    "display_step = 100\n",
    "n_hidden_1 = 128\n",
    "n_hidden_2 = 256"
   ]
  },
  {
   "cell_type": "code",
   "execution_count": 3,
   "id": "8a84a423",
   "metadata": {},
   "outputs": [
    {
     "name": "stdout",
     "output_type": "stream",
     "text": [
      "Downloading data from https://storage.googleapis.com/tensorflow/tf-keras-datasets/train-labels-idx1-ubyte.gz\n",
      "29515/29515 [==============================] - 0s 1us/step\n",
      "Downloading data from https://storage.googleapis.com/tensorflow/tf-keras-datasets/train-images-idx3-ubyte.gz\n",
      "26421880/26421880 [==============================] - 7s 0us/step\n",
      "Downloading data from https://storage.googleapis.com/tensorflow/tf-keras-datasets/t10k-labels-idx1-ubyte.gz\n",
      "5148/5148 [==============================] - 0s 0s/step\n",
      "Downloading data from https://storage.googleapis.com/tensorflow/tf-keras-datasets/t10k-images-idx3-ubyte.gz\n",
      "4422102/4422102 [==============================] - 1s 0us/step\n"
     ]
    }
   ],
   "source": [
    "(x_train, y_train), (x_test, y_test) = fashion_mnist.load_data()\n",
    "x_train, x_test = np.array(x_train, np.float32), np.array(x_test, np.float32)\n",
    "x_train, x_test = x_train.reshape([-1, num_features]), x_test.reshape([-1, num_features])\n",
    "x_train, x_test = x_train / 255., x_test / 255.\n",
    "\n",
    "train_data = tf.data.Dataset.from_tensor_slices((x_train, y_train))\n",
    "train_data = train_data.repeat().shuffle(5000).batch(batch_size).prefetch(1)"
   ]
  },
  {
   "cell_type": "code",
   "execution_count": 4,
   "id": "3cc564a9",
   "metadata": {},
   "outputs": [],
   "source": [
    "class DenseLayer(tf.Module):\n",
    "    def __init__(self, in_features, out_features, name=None):\n",
    "        super().__init__(name=name)\n",
    "        self.w = tf.Variable(\n",
    "            tf.random.normal([in_features, out_features]), name=\"w\"\n",
    "        )\n",
    "        self.b = tf.Variable(tf.zeros([out_features]), name=\"b\")\n",
    "\n",
    "    def __call__(self, x, activation=0):\n",
    "        y = tf.matmul(x, self.w) + self.b\n",
    "        if activation != 0:\n",
    "            return tf.nn.softmax(y)\n",
    "        else:\n",
    "            return tf.nn.sigmoid(y)\n",
    "\n",
    "\n",
    "class NN(tf.Module):\n",
    "  def __init__(self, name=None):\n",
    "    super().__init__(name=name)\n",
    "    self.layer_1 = DenseLayer(in_features=num_features, out_features=n_hidden_1)\n",
    "    self.layer_2 = DenseLayer(in_features=n_hidden_1, out_features=n_hidden_2)\n",
    "    self.layer_3 = DenseLayer(in_features=n_hidden_2, out_features=num_classes)\n",
    "\n",
    "  def __call__(self, x):\n",
    "    x1 = self.layer_1(x, activation=0)\n",
    "    x2 = self.layer_2(x1, activation=0)\n",
    "    x3 = self.layer_3(x2, activation=1)\n",
    "    return x3"
   ]
  },
  {
   "cell_type": "code",
   "execution_count": 5,
   "id": "f378f4ce",
   "metadata": {},
   "outputs": [],
   "source": [
    "def cross_entropy(y_pred, y_true):\n",
    "    y_true = tf.one_hot(y_true, depth=num_classes)\n",
    "    y_pred = tf.clip_by_value(y_pred, 1e-9, 1.)\n",
    "    return tf.reduce_mean(-tf.reduce_sum(y_true * tf.math.log(y_pred)))\n",
    "\n",
    "def accuracy(y_pred, y_true):\n",
    "    acc = tf.metrics.Accuracy()\n",
    "    acc.update_state(y_true, tf.argmax(y_pred, axis=1))\n",
    "    return acc.result()"
   ]
  },
  {
   "cell_type": "code",
   "execution_count": 6,
   "id": "554cba02",
   "metadata": {},
   "outputs": [],
   "source": [
    "neural_net = NN(name=\"mnist\")\n",
    "\n",
    "def train(nn, input_x, output_y):\n",
    "  optimizer = tf.optimizers.SGD(learning_rate)\n",
    "  with tf.GradientTape() as g:\n",
    "    pred = neural_net(input_x)\n",
    "    loss = cross_entropy(pred, output_y)\n",
    "    \n",
    "    trainable_variables = nn.trainable_variables\n",
    "    gradients = g.gradient(loss, trainable_variables)\n",
    "    optimizer.apply_gradients(zip(gradients, trainable_variables))"
   ]
  },
  {
   "cell_type": "code",
   "execution_count": 7,
   "id": "53c1f362",
   "metadata": {},
   "outputs": [
    {
     "name": "stdout",
     "output_type": "stream",
     "text": [
      "Step: 0, Loss: 2778.29736328125, Accuracy: 0.125\n",
      "Step: 100, Loss: 273.2024841308594, Accuracy: 0.6875\n",
      "Step: 200, Loss: 203.25267028808594, Accuracy: 0.75390625\n",
      "Step: 300, Loss: 213.89138793945312, Accuracy: 0.73046875\n",
      "Step: 400, Loss: 135.61691284179688, Accuracy: 0.8359375\n",
      "Step: 500, Loss: 139.7025909423828, Accuracy: 0.78515625\n",
      "Step: 600, Loss: 130.1674346923828, Accuracy: 0.82421875\n",
      "Step: 700, Loss: 138.87091064453125, Accuracy: 0.79296875\n",
      "Step: 800, Loss: 146.09646606445312, Accuracy: 0.7890625\n",
      "Step: 900, Loss: 143.0506134033203, Accuracy: 0.80078125\n",
      "Step: 1000, Loss: 143.90269470214844, Accuracy: 0.78515625\n",
      "Step: 1100, Loss: 128.94439697265625, Accuracy: 0.82421875\n",
      "Step: 1200, Loss: 138.04425048828125, Accuracy: 0.80078125\n",
      "Step: 1300, Loss: 154.02609252929688, Accuracy: 0.76953125\n",
      "Step: 1400, Loss: 156.55662536621094, Accuracy: 0.76953125\n",
      "Step: 1500, Loss: 109.29647064208984, Accuracy: 0.875\n",
      "Step: 1600, Loss: 180.12640380859375, Accuracy: 0.75\n",
      "Step: 1700, Loss: 151.62367248535156, Accuracy: 0.81640625\n",
      "Step: 1800, Loss: 128.3678741455078, Accuracy: 0.7890625\n",
      "Step: 1900, Loss: 120.97286987304688, Accuracy: 0.83203125\n",
      "Step: 2000, Loss: 123.16991424560547, Accuracy: 0.8125\n",
      "Step: 2100, Loss: 131.67861938476562, Accuracy: 0.79296875\n",
      "Step: 2200, Loss: 113.71501922607422, Accuracy: 0.84765625\n",
      "Step: 2300, Loss: 124.01669311523438, Accuracy: 0.8125\n",
      "Step: 2400, Loss: 147.25469970703125, Accuracy: 0.79296875\n",
      "Step: 2500, Loss: 119.35243225097656, Accuracy: 0.828125\n",
      "Step: 2600, Loss: 89.73504638671875, Accuracy: 0.87109375\n",
      "Step: 2700, Loss: 90.28125, Accuracy: 0.875\n",
      "Step: 2800, Loss: 108.28762817382812, Accuracy: 0.83203125\n",
      "Step: 2900, Loss: 106.71855163574219, Accuracy: 0.84765625\n"
     ]
    }
   ],
   "source": [
    "loss_history = []\n",
    "accuracy_history = []\n",
    "\n",
    "for step, (batch_x, batch_y) in enumerate(train_data.take(training_steps)):\n",
    "    train(neural_net, batch_x, batch_y)\n",
    "    \n",
    "    if step % display_step == 0:\n",
    "        pred = neural_net(batch_x)\n",
    "        current_loss = cross_entropy(pred, batch_y)\n",
    "        loss_history.append(current_loss)\n",
    "        \n",
    "        current_accuracy = accuracy(pred, batch_y)\n",
    "        accuracy_history.append(current_accuracy)\n",
    "        print(f\"Step: {step}, Loss: {current_loss}, Accuracy: {current_accuracy}\")"
   ]
  },
  {
   "cell_type": "code",
   "execution_count": 4,
   "id": "3385fb6b",
   "metadata": {},
   "outputs": [
    {
     "data": {
      "text/plain": [
       "'\\nfig, axs = plt.subplots(figsize=(16, 10))\\naxs.plot(loss_history, \\'r\\', label=\\'loss\\', linestyle=\":\")\\naxs.legend()\\n\\naxs2=axs.twinx()\\naxs2.plot(accuracy_history, \\'b\\', label=\\'accuracy\\', linestyle=\":\")\\nplt.legend()\\n\\nplt.title(\\'Залежності зміни точності та втрат від кроку\\', fontsize=20, color=\\'g\\')\\nplt.show()\\n'"
      ]
     },
     "execution_count": 4,
     "metadata": {},
     "output_type": "execute_result"
    }
   ],
   "source": [
    "#Смерть ядра\n",
    "\"\"\"\n",
    "fig, axs = plt.subplots(figsize=(16, 10))\n",
    "axs.plot(loss_history, 'r', label='loss', linestyle=\":\")\n",
    "axs.legend()\n",
    "\n",
    "axs2=axs.twinx()\n",
    "axs2.plot(accuracy_history, 'b', label='accuracy', linestyle=\":\")\n",
    "plt.legend()\n",
    "\n",
    "plt.title('Залежності зміни точності та втрат від кроку', fontsize=20, color='g')\n",
    "plt.show()\n",
    "\"\"\""
   ]
  },
  {
   "cell_type": "code",
   "execution_count": 8,
   "id": "0732e532",
   "metadata": {},
   "outputs": [
    {
     "name": "stdout",
     "output_type": "stream",
     "text": [
      "Accuracy: 0.8352000117301941\n"
     ]
    }
   ],
   "source": [
    "neural_net_accuracy = accuracy(neural_net(x_train), y_train)\n",
    "print(f\"Accuracy: {neural_net_accuracy}\")"
   ]
  },
  {
   "cell_type": "code",
   "execution_count": 9,
   "id": "5180ad0a",
   "metadata": {},
   "outputs": [
    {
     "data": {
      "text/plain": [
       "'\\nplt.figure(figsize=(16, 6))\\nfor i in range(10):\\n    print(f\"True: {y_test_true[i]} Predict: {pred_data[i]} {True if y_test_true[i] - pred_data[i] == 0 else False}\")\\n    plt.subplot(1, 10, (i + 1))\\n    plt.imshow(x_test[test_img[i]].reshape(28, 28), cmap=\\'gray\\')\\n    plt.text(x=10, y=-10, s=pred_data[i], fontsize=18)\\n    \\nplt.tight_layout()\\nplt.show()\\n'"
      ]
     },
     "execution_count": 9,
     "metadata": {},
     "output_type": "execute_result"
    }
   ],
   "source": [
    "test_img = np.random.permutation(x_test.shape[0])[:10]\n",
    "y_test_true = y_test[test_img]\n",
    "pred_data = [np.argmax(x) for x in neural_net(x_test[test_img])]\n",
    "\n",
    "#Смерть ядра\n",
    "\"\"\"\n",
    "plt.figure(figsize=(16, 6))\n",
    "for i in range(10):\n",
    "    print(f\"True: {y_test_true[i]} Predict: {pred_data[i]} {True if y_test_true[i] - pred_data[i] == 0 else False}\")\n",
    "    plt.subplot(1, 10, (i + 1))\n",
    "    plt.imshow(x_test[test_img[i]].reshape(28, 28), cmap='gray')\n",
    "    plt.text(x=10, y=-10, s=pred_data[i], fontsize=18)\n",
    "    \n",
    "plt.tight_layout()\n",
    "plt.show()\n",
    "\"\"\""
   ]
  },
  {
   "cell_type": "code",
   "execution_count": null,
   "id": "20345587",
   "metadata": {},
   "outputs": [],
   "source": []
  }
 ],
 "metadata": {
  "kernelspec": {
   "display_name": "Python 3 (ipykernel)",
   "language": "python",
   "name": "python3"
  },
  "language_info": {
   "codemirror_mode": {
    "name": "ipython",
    "version": 3
   },
   "file_extension": ".py",
   "mimetype": "text/x-python",
   "name": "python",
   "nbconvert_exporter": "python",
   "pygments_lexer": "ipython3",
   "version": "3.10.13"
  }
 },
 "nbformat": 4,
 "nbformat_minor": 5
}
