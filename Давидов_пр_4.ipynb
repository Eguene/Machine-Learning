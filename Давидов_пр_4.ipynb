{
 "cells": [
  {
   "cell_type": "code",
   "execution_count": 2,
   "id": "4320bef4",
   "metadata": {},
   "outputs": [],
   "source": [
    "#Варіант 4, Давидов Євген Денисович, ФІТ-4-6\n",
    "import numpy as np"
   ]
  },
  {
   "cell_type": "code",
   "execution_count": 3,
   "id": "66f0e2be",
   "metadata": {},
   "outputs": [],
   "source": [
    "# Завдання 1: Створіть одновимірний масив (вектор) з непарними числами від 1 до 19 та виведіть його значення."
   ]
  },
  {
   "cell_type": "code",
   "execution_count": 4,
   "id": "4e4634fc",
   "metadata": {},
   "outputs": [
    {
     "name": "stdout",
     "output_type": "stream",
     "text": [
      "[ 1  2  3  4  5  6  7  8  9 10 11 12 13 14 15 16 17 18 19]\n"
     ]
    }
   ],
   "source": [
    "vect = np.arange(1, 20)\n",
    "print(vect)"
   ]
  },
  {
   "cell_type": "code",
   "execution_count": 5,
   "id": "7c2abfad",
   "metadata": {},
   "outputs": [],
   "source": [
    "# Завдання 2: Створіть двовимірний масив (матрицю) розміром 3x3, заповніть його послідовністю чисел, де кожне наступне число більше попереднього на 2, та виведіть його значення."
   ]
  },
  {
   "cell_type": "code",
   "execution_count": 6,
   "id": "db02bd97",
   "metadata": {},
   "outputs": [
    {
     "name": "stdout",
     "output_type": "stream",
     "text": [
      "[[ 0  2  4]\n",
      " [ 6  8 10]\n",
      " [12 14 16]]\n"
     ]
    }
   ],
   "source": [
    "matrix = np.matrix(\"0, 2, 4; 6, 8, 10; 12, 14, 16\")\n",
    "print(matrix)\n"
   ]
  },
  {
   "cell_type": "code",
   "execution_count": 7,
   "id": "a8e475e6",
   "metadata": {},
   "outputs": [],
   "source": [
    "# Завдання 3: Створіть масив розміром 7x7, заповніть його випадковими цілими числами від -5 до 5 та виведіть його значення."
   ]
  },
  {
   "cell_type": "code",
   "execution_count": 8,
   "id": "59dce0e6",
   "metadata": {},
   "outputs": [
    {
     "name": "stdout",
     "output_type": "stream",
     "text": [
      "[[-5 -4 -3 -1  5 -5  2]\n",
      " [-5 -1 -5 -2 -1  0  3]\n",
      " [ 5 -5  3  3  0 -5 -5]\n",
      " [-5 -3  4 -5 -2 -2  4]\n",
      " [-1  2  5  5 -1  2  5]\n",
      " [-2 -4  1  3  1  5 -3]\n",
      " [-3  4  1  3 -2  1  1]]\n"
     ]
    }
   ],
   "source": [
    "matrix = np.random.randint(-5, 6, (7, 7))\n",
    "print(matrix)"
   ]
  },
  {
   "cell_type": "code",
   "execution_count": 9,
   "id": "f3e63757",
   "metadata": {},
   "outputs": [],
   "source": [
    "# Завдання 4: Створіть масив розміром 6x6, заповніть його випадковими дійсними числами в діапазоні від 0 до 1 та знайдіть максимальний елемент."
   ]
  },
  {
   "cell_type": "code",
   "execution_count": 10,
   "id": "36c8ebfb",
   "metadata": {},
   "outputs": [
    {
     "name": "stdout",
     "output_type": "stream",
     "text": [
      "[[0.69552023 0.17296683 0.63437523 0.39376198 0.05551085 0.85972405]\n",
      " [0.54645921 0.41041201 0.04055473 0.37499221 0.41585498 0.85749994]\n",
      " [0.7872125  0.22088391 0.29530331 0.63956813 0.03760762 0.79079432]\n",
      " [0.65717787 0.67792085 0.42232514 0.33400873 0.64018293 0.97393733]\n",
      " [0.42076135 0.58630315 0.80529914 0.70664124 0.06696423 0.05321488]\n",
      " [0.40851826 0.98632747 0.79557887 0.58385216 0.2311001  0.81876127]]\n",
      "0.9863274721520975\n"
     ]
    }
   ],
   "source": [
    "matrix = np.random.rand(6, 6)\n",
    "print(matrix)\n",
    "print(np.max(matrix))"
   ]
  },
  {
   "cell_type": "code",
   "execution_count": 11,
   "id": "0bacdcc2",
   "metadata": {},
   "outputs": [],
   "source": [
    "# Завдання 5: Створіть два одновимірних масиви розміром 4, заповніть їх випадковими цілими числами в діапазоні від -5 до 5 та виконайте на них поелементні операції додавання, віднімання та множення."
   ]
  },
  {
   "cell_type": "code",
   "execution_count": 12,
   "id": "6069a279",
   "metadata": {},
   "outputs": [
    {
     "name": "stdout",
     "output_type": "stream",
     "text": [
      "Mas 1:  [ 4  5  4 -2]\n",
      "Mas 2:  [-5  1 -1 -4]\n",
      "Mas 1 + Mas 2 =  [-1  6  3 -6]\n",
      "Mas 1 - Mas 2 =  [9 4 5 2]\n",
      "Mas 1 * Mas 2 =  [-20   5  -4   8]\n"
     ]
    }
   ],
   "source": [
    "mas1 = np.random.randint(-5, 6, size = 4)\n",
    "print(\"Mas 1: \", mas1)\n",
    "mas2 = np.random.randint(-5, 6, size = 4)\n",
    "print(\"Mas 2: \", mas2)\n",
    "print(\"Mas 1 + Mas 2 = \", mas1 + mas2)\n",
    "print(\"Mas 1 - Mas 2 = \", mas1 - mas2)\n",
    "print(\"Mas 1 * Mas 2 = \", mas1 * mas2)"
   ]
  },
  {
   "cell_type": "code",
   "execution_count": 13,
   "id": "2f2d255b",
   "metadata": {},
   "outputs": [],
   "source": [
    "# Завдання 6: Створіть два вектори розміром 4, заповніть їх довільними дійсними числами та знайдіть їх скалярний добуток."
   ]
  },
  {
   "cell_type": "code",
   "execution_count": 14,
   "id": "1bc276e0",
   "metadata": {},
   "outputs": [
    {
     "name": "stdout",
     "output_type": "stream",
     "text": [
      "Vector 1:  [ 3 14  4  2]\n",
      "Vector 2:  [18  9 16  5]\n",
      "Добуток двох векторів =  254\n"
     ]
    }
   ],
   "source": [
    "vect1 = np.random.randint(1, 21, size = 4)\n",
    "print(\"Vector 1: \",vect1)\n",
    "vect2 = np.random.randint(1, 21, size = 4)\n",
    "print(\"Vector 2: \",vect2)\n",
    "product = np.dot(vect1, vect2)\n",
    "print(\"Добуток двох векторів = \", product)"
   ]
  },
  {
   "cell_type": "code",
   "execution_count": 15,
   "id": "5ee96ed5",
   "metadata": {},
   "outputs": [],
   "source": [
    "# Завдання 7: Створіть дві матриці розміром 2x3 та 3x3, заповніть їх випадковими цілими числами в діапазоні від 1 до 10 та перемножте їх між собою."
   ]
  },
  {
   "cell_type": "code",
   "execution_count": 16,
   "id": "04d045fe",
   "metadata": {},
   "outputs": [
    {
     "name": "stdout",
     "output_type": "stream",
     "text": [
      "Matrix 1 : \n",
      "[[7 2 6]\n",
      " [6 8 5]]\n",
      "Matrix 2 : \n",
      "[[ 8  5 10]\n",
      " [ 7  8  5]\n",
      " [ 2  2  4]]\n",
      "Результат множення матриць: \n",
      "[[ 82  63 104]\n",
      " [114 104 120]]\n"
     ]
    }
   ],
   "source": [
    "matrix1 = np.random.randint(1, 11, (2, 3))\n",
    "print(\"Matrix 1 : \")\n",
    "print(matrix1)\n",
    "matrix2 = np.random.randint(1, 11, (3, 3))\n",
    "print(\"Matrix 2 : \")\n",
    "print(matrix2)\n",
    "matrixProduct = np.dot(matrix1, matrix2)\n",
    "print(\"Результат множення матриць: \")\n",
    "print(matrixProduct)"
   ]
  },
  {
   "cell_type": "code",
   "execution_count": 17,
   "id": "8c739f64",
   "metadata": {},
   "outputs": [],
   "source": [
    "# Завдання 8: Створіть матрицю розміром 3x3, заповніть її випадковими цілими числами в діапазоні від 1 до 15 та знайдіть її обернену матрицю."
   ]
  },
  {
   "cell_type": "code",
   "execution_count": 18,
   "id": "8ba43bfb",
   "metadata": {},
   "outputs": [
    {
     "name": "stdout",
     "output_type": "stream",
     "text": [
      "Початкова матриця:\n",
      "[[ 3 12  1]\n",
      " [15  7 12]\n",
      " [ 1  4  1]]\n",
      "Обернена матриця:\n",
      "[[ 3.86792453e-01  7.54716981e-02 -1.29245283e+00]\n",
      " [ 2.83018868e-02 -1.88679245e-02  1.98113208e-01]\n",
      " [-5.00000000e-01  1.38777878e-18  1.50000000e+00]]\n"
     ]
    }
   ],
   "source": [
    "matrix = np.random.randint(1, 16, size = (3, 3))\n",
    "print(\"Початкова матриця:\")\n",
    "print(matrix)\n",
    "#Перевірка детермінанту: \n",
    "if np.linalg.det == 0:\n",
    "    print(\"Матриця не має оберненої.\")\n",
    "else:\n",
    "    invMatrix = np.linalg.inv(matrix)\n",
    "    print(\"Обернена матриця:\")\n",
    "    print(invMatrix)"
   ]
  },
  {
   "cell_type": "code",
   "execution_count": 19,
   "id": "edd57f68",
   "metadata": {},
   "outputs": [],
   "source": [
    "# Завдання 9: Створіть матрицю розміром 7x4, заповніть її випадковими дійсними числами в діапазоні від 0 до 1 та транспонуйте її."
   ]
  },
  {
   "cell_type": "code",
   "execution_count": 20,
   "id": "6fc32818",
   "metadata": {},
   "outputs": [
    {
     "name": "stdout",
     "output_type": "stream",
     "text": [
      "Початкова матриця:\n",
      "[[0.59014788 0.62806153 0.56239268 0.20378654 0.26688489 0.94914616\n",
      "  0.42148264]\n",
      " [0.598562   0.89700358 0.65204523 0.35029854 0.84288865 0.90505872\n",
      "  0.41591744]\n",
      " [0.81662673 0.77936921 0.4621561  0.55564084 0.59453695 0.3372649\n",
      "  0.67075282]\n",
      " [0.83099965 0.79452233 0.67688558 0.59521292 0.67432436 0.26154852\n",
      "  0.21104134]]\n",
      "Транспонована матриця:\n",
      "[[0.59014788 0.598562   0.81662673 0.83099965]\n",
      " [0.62806153 0.89700358 0.77936921 0.79452233]\n",
      " [0.56239268 0.65204523 0.4621561  0.67688558]\n",
      " [0.20378654 0.35029854 0.55564084 0.59521292]\n",
      " [0.26688489 0.84288865 0.59453695 0.67432436]\n",
      " [0.94914616 0.90505872 0.3372649  0.26154852]\n",
      " [0.42148264 0.41591744 0.67075282 0.21104134]]\n"
     ]
    }
   ],
   "source": [
    "matrix = np.random.rand(4, 7)\n",
    "print(\"Початкова матриця:\")\n",
    "print(matrix)\n",
    "trMatrix = np.transpose(matrix)\n",
    "print(\"Транспонована матриця:\")\n",
    "print(trMatrix)"
   ]
  },
  {
   "cell_type": "code",
   "execution_count": 21,
   "id": "654a2818",
   "metadata": {},
   "outputs": [],
   "source": [
    "# Завдання 10: Створіть матрицю розміром 3x4 та вектор розміром 4, заповніть матрицю випадковими цілими числами в діапазоні від 1 до 10, а вектор - випадковими дійсними числами від 0 до 1, і знайдіть добуток матриці на вектор."
   ]
  },
  {
   "cell_type": "code",
   "execution_count": 22,
   "id": "498e87ff",
   "metadata": {},
   "outputs": [
    {
     "name": "stdout",
     "output_type": "stream",
     "text": [
      "Початкова матриця:\n",
      "[[ 8  5  5  8]\n",
      " [ 4  8  1  6]\n",
      " [ 9  1 10  4]]\n",
      "Вектор:  [0.64410991 0.99630119 0.46517186 0.10872878]\n",
      "Добуток матриці та вектора:\n",
      "[13.33007475 11.66439369 11.87992411]\n"
     ]
    }
   ],
   "source": [
    "matrix = np.random.randint(1, 11, (3, 4))\n",
    "print(\"Початкова матриця:\")\n",
    "print(matrix)\n",
    "vect = np.random.rand(4)\n",
    "print(\"Вектор: \",vect)\n",
    "prodMV = np.dot(matrix, vect)\n",
    "print(\"Добуток матриці та вектора:\")\n",
    "print(prodMV)"
   ]
  },
  {
   "cell_type": "code",
   "execution_count": 23,
   "id": "36094ded",
   "metadata": {},
   "outputs": [],
   "source": [
    "# Завдання 11: Створіть матрицю розміром 2x3 та вектор розміром 3, заповніть матрицю випадковими дійсними числами від 0 до 1, а вектор - випадковими дійсними числами від 0 до 1, і знайдіть добуток вектора на матрицю."
   ]
  },
  {
   "cell_type": "code",
   "execution_count": 24,
   "id": "dff4b217",
   "metadata": {},
   "outputs": [
    {
     "name": "stdout",
     "output_type": "stream",
     "text": [
      "Матриця:\n",
      "[[0.39406025 0.53241374]\n",
      " [0.98658969 0.95784677]\n",
      " [0.86758554 0.29742475]]\n",
      "Вектор:  [0.62399205 0.62514725 0.12766084]\n",
      "Добуток вектора та матриці:\n",
      "[0.973411   0.96898671]\n"
     ]
    }
   ],
   "source": [
    "matrix = np.random.rand(3, 2)\n",
    "print(\"Матриця:\")\n",
    "print(matrix)\n",
    "vect = np.random.rand(3)\n",
    "print(\"Вектор: \",vect)\n",
    "prodMV = np.dot(vect, matrix)\n",
    "print(\"Добуток вектора та матриці:\")\n",
    "print(prodMV)"
   ]
  },
  {
   "cell_type": "code",
   "execution_count": 25,
   "id": "2197ac56",
   "metadata": {},
   "outputs": [],
   "source": [
    "# Завдання 12: Створіть дві матриці розміром 5x5, заповніть їх випадковими цілими числами в діапазоні від 1 до 10 та знайдіть відношення першої матриці до другої (поелементне ділення)."
   ]
  },
  {
   "cell_type": "code",
   "execution_count": 26,
   "id": "88e41570",
   "metadata": {},
   "outputs": [
    {
     "name": "stdout",
     "output_type": "stream",
     "text": [
      "Матриця 1:\n",
      "[[ 1 10  6  7 10]\n",
      " [10  9  8  8  6]\n",
      " [ 8  1  5  4  8]\n",
      " [ 6  1  2  5  3]\n",
      " [ 3  7  7  5  2]]\n",
      "Матриця 2:\n",
      "[[ 4  3  4  3  4]\n",
      " [ 5  5  5  6  2]\n",
      " [ 3  4  8  7  9]\n",
      " [ 6  1 10 10  1]\n",
      " [ 6  3  8  6  9]]\n",
      "Відношення матриць: \n",
      "[[0.25       3.33333333 1.5        2.33333333 2.5       ]\n",
      " [2.         1.8        1.6        1.33333333 3.        ]\n",
      " [2.66666667 0.25       0.625      0.57142857 0.88888889]\n",
      " [1.         1.         0.2        0.5        3.        ]\n",
      " [0.5        2.33333333 0.875      0.83333333 0.22222222]]\n"
     ]
    }
   ],
   "source": [
    "matrix1 = np.random.randint(1, 11, (5, 5))\n",
    "print(\"Матриця 1:\")\n",
    "print(matrix1)\n",
    "matrix2 = np.random.randint(1, 11, (5, 5))\n",
    "print(\"Матриця 2:\")\n",
    "print(matrix2)\n",
    "divMatrix = matrix1/matrix2\n",
    "print(\"Відношення матриць: \")\n",
    "print(divMatrix)"
   ]
  },
  {
   "cell_type": "code",
   "execution_count": 27,
   "id": "81ee04b3",
   "metadata": {},
   "outputs": [],
   "source": [
    "# Завдання 13: Створіть дві матриці розміром 5x5, заповніть їх випадковими цілими числами в діапазоні від 1 до 10 та знайдіть суму їх елементів."
   ]
  },
  {
   "cell_type": "code",
   "execution_count": 28,
   "id": "7805f326",
   "metadata": {},
   "outputs": [
    {
     "name": "stdout",
     "output_type": "stream",
     "text": [
      "Матриця 1:\n",
      "[[ 8  2  1 10  7]\n",
      " [ 7  8  4  3  4]\n",
      " [ 1  7  2 10  5]\n",
      " [ 7  6  3  5  5]\n",
      " [ 4 10  6  9  8]]\n",
      "Матриця 2:\n",
      "[[ 8  7  9  1  7]\n",
      " [ 5  8  4  2  4]\n",
      " [ 6  7  1  4 10]\n",
      " [ 6  4 10  6  9]\n",
      " [ 5  2  2  5  3]]\n",
      "Сума матриць:\n",
      "[[16  9 10 11 14]\n",
      " [12 16  8  5  8]\n",
      " [ 7 14  3 14 15]\n",
      " [13 10 13 11 14]\n",
      " [ 9 12  8 14 11]]\n"
     ]
    }
   ],
   "source": [
    "matrix1 = np.random.randint(1, 11, (5, 5))\n",
    "print(\"Матриця 1:\")\n",
    "print(matrix1)\n",
    "matrix2 = np.random.randint(1, 11, (5, 5))\n",
    "print(\"Матриця 2:\")\n",
    "print(matrix2)\n",
    "sumMatrix = matrix1 + matrix2\n",
    "print(\"Сума матриць:\")\n",
    "print(sumMatrix)"
   ]
  },
  {
   "cell_type": "code",
   "execution_count": 29,
   "id": "5c1b4fbc",
   "metadata": {},
   "outputs": [],
   "source": [
    "# Завдання 14: Створіть матрицю розміром 8x8, заповніть її випадковими цілими числами в діапазоні від 1 до 100 та знайдіть добуток елементів матриці."
   ]
  },
  {
   "cell_type": "code",
   "execution_count": 35,
   "id": "224a6641",
   "metadata": {},
   "outputs": [
    {
     "name": "stdout",
     "output_type": "stream",
     "text": [
      "Матриця:\n",
      "[[ 5  6  6]\n",
      " [ 2  7  3]\n",
      " [10  9  1]]\n",
      "Добуток елементів матриці:  680400\n"
     ]
    }
   ],
   "source": [
    "#matrix = np.random.randint(1, 101, (8, 8))\n",
    "#print(\"Матриця:\")\n",
    "#print(matrix)\n",
    "#elProd = np.prod(matrix)\n",
    "#print(\"Добуток елементів матриці:\")\n",
    "#print(elProd)\n",
    "#Через переповнення код вище показує результат 0, тому виконаний код нижче, котрий відрізняється лише розміром мматриці та елементами.\n",
    "matrix = np.random.randint(1, 11, size=(3, 3))\n",
    "print(\"Матриця:\")\n",
    "print(matrix)\n",
    "product = np.prod(matrix)\n",
    "print(\"Добуток елементів матриці: \", product)"
   ]
  },
  {
   "cell_type": "code",
   "execution_count": 31,
   "id": "4ebc9d79",
   "metadata": {},
   "outputs": [],
   "source": [
    "# Завдання 15: Створіть матрицю розміром 6x6, заповніть її випадковими дійсними числами в діапазоні від -2 до 2 та знайдіть вектор-стовпчик, що містить середнє арифметичне значення елементів кожного рядка матриці."
   ]
  },
  {
   "cell_type": "code",
   "execution_count": 34,
   "id": "a4d3ae56",
   "metadata": {},
   "outputs": [
    {
     "name": "stdout",
     "output_type": "stream",
     "text": [
      "Матриця:\n",
      "[[ 1 -1  2  1  2 -2]\n",
      " [ 2  0  0  2  2  0]\n",
      " [ 1 -1  2  0  0  2]\n",
      " [ 2 -2  0 -2  1 -2]\n",
      " [ 2  2  1  1  0  0]\n",
      " [ 1  1 -1 -2  0  0]]\n",
      "Вектор-стовпчик з середнім значенням елементів кожного рядка:\n",
      "[[ 0.5       ]\n",
      " [ 1.        ]\n",
      " [ 0.66666667]\n",
      " [-0.5       ]\n",
      " [ 1.        ]\n",
      " [-0.16666667]]\n"
     ]
    }
   ],
   "source": [
    "matrix = np.random.randint(-2, 3, (6, 6))\n",
    "print(\"Матриця:\")\n",
    "print(matrix)\n",
    "rowAvg = matrix.mean(axis=1)\n",
    "colVector = rowAvg.reshape((-1, 1))\n",
    "print(\"Вектор-стовпчик з середнім значенням елементів кожного рядка:\")\n",
    "print(colVector)"
   ]
  },
  {
   "cell_type": "code",
   "execution_count": 33,
   "id": "fb70df57",
   "metadata": {},
   "outputs": [],
   "source": [
    "#Коментар: бібліотека NumPy надає можливості для виконання математиичних операцій з різноманітними масивами та матрицями і повністю задовольняє більшість необхідностей при роботі з ними."
   ]
  }
 ],
 "metadata": {
  "kernelspec": {
   "display_name": "Python 3 (ipykernel)",
   "language": "python",
   "name": "python3"
  },
  "language_info": {
   "codemirror_mode": {
    "name": "ipython",
    "version": 3
   },
   "file_extension": ".py",
   "mimetype": "text/x-python",
   "name": "python",
   "nbconvert_exporter": "python",
   "pygments_lexer": "ipython3",
   "version": "3.10.9"
  }
 },
 "nbformat": 4,
 "nbformat_minor": 5
}
