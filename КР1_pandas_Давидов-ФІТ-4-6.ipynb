{
 "cells": [
  {
   "cell_type": "code",
   "execution_count": 1,
   "id": "f8208e72",
   "metadata": {},
   "outputs": [],
   "source": [
    "#Варіант 4, Давидов Євген ФІТ-4-6\n",
    "import pandas as pd\n",
    "import numpy as np\n",
    "import matplotlib.pyplot as plt"
   ]
  },
  {
   "cell_type": "code",
   "execution_count": 3,
   "id": "512559b0",
   "metadata": {},
   "outputs": [
    {
     "data": {
      "text/html": [
       "<div>\n",
       "<style scoped>\n",
       "    .dataframe tbody tr th:only-of-type {\n",
       "        vertical-align: middle;\n",
       "    }\n",
       "\n",
       "    .dataframe tbody tr th {\n",
       "        vertical-align: top;\n",
       "    }\n",
       "\n",
       "    .dataframe thead th {\n",
       "        text-align: right;\n",
       "    }\n",
       "</style>\n",
       "<table border=\"1\" class=\"dataframe\">\n",
       "  <thead>\n",
       "    <tr style=\"text-align: right;\">\n",
       "      <th></th>\n",
       "      <th>rank</th>\n",
       "      <th>Youtuber</th>\n",
       "      <th>subscribers</th>\n",
       "      <th>video views</th>\n",
       "      <th>category</th>\n",
       "      <th>Title</th>\n",
       "      <th>uploads</th>\n",
       "      <th>Country</th>\n",
       "      <th>Abbreviation</th>\n",
       "      <th>channel_type</th>\n",
       "      <th>...</th>\n",
       "      <th>subscribers_for_last_30_days</th>\n",
       "      <th>created_year</th>\n",
       "      <th>created_month</th>\n",
       "      <th>created_date</th>\n",
       "      <th>Gross tertiary education enrollment (%)</th>\n",
       "      <th>Population</th>\n",
       "      <th>Unemployment rate</th>\n",
       "      <th>Urban_population</th>\n",
       "      <th>Latitude</th>\n",
       "      <th>Longitude</th>\n",
       "    </tr>\n",
       "  </thead>\n",
       "  <tbody>\n",
       "    <tr>\n",
       "      <th>0</th>\n",
       "      <td>1</td>\n",
       "      <td>T-Series</td>\n",
       "      <td>245000000</td>\n",
       "      <td>2.280000e+11</td>\n",
       "      <td>Music</td>\n",
       "      <td>T-Series</td>\n",
       "      <td>20082</td>\n",
       "      <td>India</td>\n",
       "      <td>IN</td>\n",
       "      <td>Music</td>\n",
       "      <td>...</td>\n",
       "      <td>2000000.0</td>\n",
       "      <td>2006.0</td>\n",
       "      <td>Mar</td>\n",
       "      <td>13.0</td>\n",
       "      <td>28.1</td>\n",
       "      <td>1.366418e+09</td>\n",
       "      <td>5.36</td>\n",
       "      <td>471031528.0</td>\n",
       "      <td>20.593684</td>\n",
       "      <td>78.962880</td>\n",
       "    </tr>\n",
       "    <tr>\n",
       "      <th>1</th>\n",
       "      <td>2</td>\n",
       "      <td>YouTube Movies</td>\n",
       "      <td>170000000</td>\n",
       "      <td>0.000000e+00</td>\n",
       "      <td>Film &amp; Animation</td>\n",
       "      <td>youtubemovies</td>\n",
       "      <td>1</td>\n",
       "      <td>United States</td>\n",
       "      <td>US</td>\n",
       "      <td>Games</td>\n",
       "      <td>...</td>\n",
       "      <td>NaN</td>\n",
       "      <td>2006.0</td>\n",
       "      <td>Mar</td>\n",
       "      <td>5.0</td>\n",
       "      <td>88.2</td>\n",
       "      <td>3.282395e+08</td>\n",
       "      <td>14.70</td>\n",
       "      <td>270663028.0</td>\n",
       "      <td>37.090240</td>\n",
       "      <td>-95.712891</td>\n",
       "    </tr>\n",
       "    <tr>\n",
       "      <th>2</th>\n",
       "      <td>3</td>\n",
       "      <td>MrBeast</td>\n",
       "      <td>166000000</td>\n",
       "      <td>2.836884e+10</td>\n",
       "      <td>Entertainment</td>\n",
       "      <td>MrBeast</td>\n",
       "      <td>741</td>\n",
       "      <td>United States</td>\n",
       "      <td>US</td>\n",
       "      <td>Entertainment</td>\n",
       "      <td>...</td>\n",
       "      <td>8000000.0</td>\n",
       "      <td>2012.0</td>\n",
       "      <td>Feb</td>\n",
       "      <td>20.0</td>\n",
       "      <td>88.2</td>\n",
       "      <td>3.282395e+08</td>\n",
       "      <td>14.70</td>\n",
       "      <td>270663028.0</td>\n",
       "      <td>37.090240</td>\n",
       "      <td>-95.712891</td>\n",
       "    </tr>\n",
       "    <tr>\n",
       "      <th>3</th>\n",
       "      <td>4</td>\n",
       "      <td>Cocomelon - Nursery Rhymes</td>\n",
       "      <td>162000000</td>\n",
       "      <td>1.640000e+11</td>\n",
       "      <td>Education</td>\n",
       "      <td>Cocomelon - Nursery Rhymes</td>\n",
       "      <td>966</td>\n",
       "      <td>United States</td>\n",
       "      <td>US</td>\n",
       "      <td>Education</td>\n",
       "      <td>...</td>\n",
       "      <td>1000000.0</td>\n",
       "      <td>2006.0</td>\n",
       "      <td>Sep</td>\n",
       "      <td>1.0</td>\n",
       "      <td>88.2</td>\n",
       "      <td>3.282395e+08</td>\n",
       "      <td>14.70</td>\n",
       "      <td>270663028.0</td>\n",
       "      <td>37.090240</td>\n",
       "      <td>-95.712891</td>\n",
       "    </tr>\n",
       "    <tr>\n",
       "      <th>4</th>\n",
       "      <td>5</td>\n",
       "      <td>SET India</td>\n",
       "      <td>159000000</td>\n",
       "      <td>1.480000e+11</td>\n",
       "      <td>Shows</td>\n",
       "      <td>SET India</td>\n",
       "      <td>116536</td>\n",
       "      <td>India</td>\n",
       "      <td>IN</td>\n",
       "      <td>Entertainment</td>\n",
       "      <td>...</td>\n",
       "      <td>1000000.0</td>\n",
       "      <td>2006.0</td>\n",
       "      <td>Sep</td>\n",
       "      <td>20.0</td>\n",
       "      <td>28.1</td>\n",
       "      <td>1.366418e+09</td>\n",
       "      <td>5.36</td>\n",
       "      <td>471031528.0</td>\n",
       "      <td>20.593684</td>\n",
       "      <td>78.962880</td>\n",
       "    </tr>\n",
       "  </tbody>\n",
       "</table>\n",
       "<p>5 rows × 28 columns</p>\n",
       "</div>"
      ],
      "text/plain": [
       "   rank                    Youtuber  subscribers   video views  \\\n",
       "0     1                    T-Series    245000000  2.280000e+11   \n",
       "1     2              YouTube Movies    170000000  0.000000e+00   \n",
       "2     3                     MrBeast    166000000  2.836884e+10   \n",
       "3     4  Cocomelon - Nursery Rhymes    162000000  1.640000e+11   \n",
       "4     5                   SET India    159000000  1.480000e+11   \n",
       "\n",
       "           category                       Title  uploads        Country  \\\n",
       "0             Music                    T-Series    20082          India   \n",
       "1  Film & Animation               youtubemovies        1  United States   \n",
       "2     Entertainment                     MrBeast      741  United States   \n",
       "3         Education  Cocomelon - Nursery Rhymes      966  United States   \n",
       "4             Shows                   SET India   116536          India   \n",
       "\n",
       "  Abbreviation   channel_type  ...  subscribers_for_last_30_days  \\\n",
       "0           IN          Music  ...                     2000000.0   \n",
       "1           US          Games  ...                           NaN   \n",
       "2           US  Entertainment  ...                     8000000.0   \n",
       "3           US      Education  ...                     1000000.0   \n",
       "4           IN  Entertainment  ...                     1000000.0   \n",
       "\n",
       "   created_year  created_month  created_date  \\\n",
       "0        2006.0            Mar          13.0   \n",
       "1        2006.0            Mar           5.0   \n",
       "2        2012.0            Feb          20.0   \n",
       "3        2006.0            Sep           1.0   \n",
       "4        2006.0            Sep          20.0   \n",
       "\n",
       "   Gross tertiary education enrollment (%)    Population  Unemployment rate  \\\n",
       "0                                     28.1  1.366418e+09               5.36   \n",
       "1                                     88.2  3.282395e+08              14.70   \n",
       "2                                     88.2  3.282395e+08              14.70   \n",
       "3                                     88.2  3.282395e+08              14.70   \n",
       "4                                     28.1  1.366418e+09               5.36   \n",
       "\n",
       "   Urban_population   Latitude  Longitude  \n",
       "0       471031528.0  20.593684  78.962880  \n",
       "1       270663028.0  37.090240 -95.712891  \n",
       "2       270663028.0  37.090240 -95.712891  \n",
       "3       270663028.0  37.090240 -95.712891  \n",
       "4       471031528.0  20.593684  78.962880  \n",
       "\n",
       "[5 rows x 28 columns]"
      ]
     },
     "execution_count": 3,
     "metadata": {},
     "output_type": "execute_result"
    }
   ],
   "source": [
    "#1. Прочитайте CSV файл\n",
    "df = pd.read_csv('D:/Учеба/Машинне Навчання/Fw/GlobalYouTubeStatistics.csv',  encoding = \"ISO-8859-1\")\n",
    "#2. Виведіть перші п'ять рядків\n",
    "df.head(5)"
   ]
  },
  {
   "cell_type": "code",
   "execution_count": 8,
   "id": "63594dc9",
   "metadata": {},
   "outputs": [
    {
     "name": "stdout",
     "output_type": "stream",
     "text": [
      "Розміри датасету: (995, 28)\n",
      " \n",
      "Пропуски: rank                                         0\n",
      "Youtuber                                     0\n",
      "subscribers                                  0\n",
      "video views                                  0\n",
      "category                                    46\n",
      "Title                                        0\n",
      "uploads                                      0\n",
      "Country                                    122\n",
      "Abbreviation                               122\n",
      "channel_type                                30\n",
      "video_views_rank                             1\n",
      "country_rank                               116\n",
      "channel_type_rank                           33\n",
      "video_views_for_the_last_30_days            56\n",
      "lowest_monthly_earnings                      0\n",
      "highest_monthly_earnings                     0\n",
      "lowest_yearly_earnings                       0\n",
      "highest_yearly_earnings                      0\n",
      "subscribers_for_last_30_days               337\n",
      "created_year                                 5\n",
      "created_month                                5\n",
      "created_date                                 5\n",
      "Gross tertiary education enrollment (%)    123\n",
      "Population                                 123\n",
      "Unemployment rate                          123\n",
      "Urban_population                           123\n",
      "Latitude                                   123\n",
      "Longitude                                  123\n",
      "dtype: int64\n",
      " \n",
      "Дублікати: 0\n"
     ]
    }
   ],
   "source": [
    "#3. Виведіть розміри датасету, перевірте наявність пропусків, дублікатів.\n",
    "print(\"Розміри датасету:\", df.shape)\n",
    "print(\" \")\n",
    "nans = df.isnull().sum()\n",
    "print(\"Пропуски:\", nans)\n",
    "print(\" \")\n",
    "duplicates = df.duplicated().sum()\n",
    "print(\"Дублікати:\", duplicates)"
   ]
  },
  {
   "cell_type": "code",
   "execution_count": 12,
   "id": "e0a29340",
   "metadata": {},
   "outputs": [
    {
     "data": {
      "text/plain": [
       "rank                                       float32\n",
       "Youtuber                                    object\n",
       "subscribers                                float32\n",
       "video views                                float32\n",
       "category                                    object\n",
       "Title                                       object\n",
       "uploads                                    float32\n",
       "Country                                     object\n",
       "Abbreviation                                object\n",
       "channel_type                                object\n",
       "video_views_rank                           float32\n",
       "country_rank                               float32\n",
       "channel_type_rank                          float32\n",
       "video_views_for_the_last_30_days           float32\n",
       "lowest_monthly_earnings                    float32\n",
       "highest_monthly_earnings                   float32\n",
       "lowest_yearly_earnings                     float32\n",
       "highest_yearly_earnings                    float32\n",
       "subscribers_for_last_30_days               float32\n",
       "created_year                               float32\n",
       "created_month                               object\n",
       "created_date                               float32\n",
       "Gross tertiary education enrollment (%)    float32\n",
       "Population                                 float32\n",
       "Unemployment rate                          float32\n",
       "Urban_population                           float32\n",
       "Latitude                                   float32\n",
       "Longitude                                  float32\n",
       "dtype: object"
      ]
     },
     "execution_count": 12,
     "metadata": {},
     "output_type": "execute_result"
    }
   ],
   "source": [
    "#4. Якщо є пропуски, замінить тип даних на float і середнє значення за стовпцем\n",
    "numericColumns = df.select_dtypes(include=['float64', 'int64']).columns\n",
    "for column in numericColumns:\n",
    "    average_value = df[column].mean()\n",
    "    df[column].fillna(average_value, inplace=True)\n",
    "    df[column] = df[column].astype('float32')\n",
    "df.dtypes"
   ]
  },
  {
   "cell_type": "code",
   "execution_count": 13,
   "id": "c7365ec5",
   "metadata": {},
   "outputs": [
    {
     "name": "stdout",
     "output_type": "stream",
     "text": [
      "Пропуски: rank                                         0\n",
      "Youtuber                                     0\n",
      "subscribers                                  0\n",
      "video views                                  0\n",
      "category                                    46\n",
      "Title                                        0\n",
      "uploads                                      0\n",
      "Country                                    122\n",
      "Abbreviation                               122\n",
      "channel_type                                30\n",
      "video_views_rank                             0\n",
      "country_rank                                 0\n",
      "channel_type_rank                            0\n",
      "video_views_for_the_last_30_days             0\n",
      "lowest_monthly_earnings                      0\n",
      "highest_monthly_earnings                     0\n",
      "lowest_yearly_earnings                       0\n",
      "highest_yearly_earnings                      0\n",
      "subscribers_for_last_30_days                 0\n",
      "created_year                                 0\n",
      "created_month                                5\n",
      "created_date                                 0\n",
      "Gross tertiary education enrollment (%)      0\n",
      "Population                                   0\n",
      "Unemployment rate                            0\n",
      "Urban_population                             0\n",
      "Latitude                                     0\n",
      "Longitude                                    0\n",
      "dtype: int64\n"
     ]
    }
   ],
   "source": [
    "#5. Ще раз перевірте кількість пропусків\n",
    "nans = df.isnull().sum()\n",
    "print(\"Пропуски:\", nans)\n",
    "#Пропуски лишилися тільки у текстових колонках"
   ]
  },
  {
   "cell_type": "code",
   "execution_count": 14,
   "id": "fb874e59",
   "metadata": {},
   "outputs": [
    {
     "name": "stdout",
     "output_type": "stream",
     "text": [
      "Унікальні країни:  49\n"
     ]
    }
   ],
   "source": [
    "#6. Перевірте, скільки унікальних країн представлено у колонці \"Country\"\n",
    "countriesUnique = df['Country'].nunique()\n",
    "print(\"Унікальні країни: \", countriesUnique)"
   ]
  },
  {
   "cell_type": "code",
   "execution_count": 27,
   "id": "e1d8276d",
   "metadata": {},
   "outputs": [
    {
     "data": {
      "image/png": "[encoded data removed]",
      "text/plain": [
       "<Figure size 1000x600 with 1 Axes>"
      ]
     },
     "metadata": {},
     "output_type": "display_data"
    }
   ],
   "source": [
    "#7. Побудуйте діаграму розподілу переглядів (використовуйте kind='hist'):\n",
    "plt.figure(figsize=(10, 6))\n",
    "plt.hist(df['video views'], bins=100, color='firebrick', edgecolor='black')\n",
    "plt.title('Розподіл переглядів')\n",
    "plt.xlabel('Перегляди')\n",
    "plt.show()"
   ]
  },
  {
   "cell_type": "code",
   "execution_count": 33,
   "id": "0d3db912",
   "metadata": {},
   "outputs": [
    {
     "name": "stdout",
     "output_type": "stream",
     "text": [
      "Максимальна кількість переглядів:  228000006144.0\n",
      " \n",
      "Мінімальна кількість переглядів:  0.0\n",
      " \n",
      "Середня кількість переглядів:  11039537000.0\n",
      " \n"
     ]
    }
   ],
   "source": [
    "#8. Визначте максимальну, мінімальну, середню кількість переглядів(використовуйте методи max, min, mean)\n",
    "maxViews = df['video views'].max()\n",
    "print(\"Максимальна кількість переглядів: \", maxViews)\n",
    "print(\" \")\n",
    "minViews = df['video views'].min()\n",
    "print(\"Мінімальна кількість переглядів: \", minViews)\n",
    "print(\" \")\n",
    "meanViews = df['video views'].mean()\n",
    "print(\"Середня кількість переглядів: \", meanViews)\n",
    "print(\" \")"
   ]
  },
  {
   "cell_type": "code",
   "execution_count": 38,
   "id": "ee4ae2f7",
   "metadata": {},
   "outputs": [
    {
     "name": "stdout",
     "output_type": "stream",
     "text": [
      "Країна з найбільшою кількістю завантажених відео:  India\n"
     ]
    }
   ],
   "source": [
    "#9. Знайдіть країну, де найбільше відео було завантажено на YouTube\n",
    "mostUploads = df.loc[df[\"uploads\"].idxmax(), \"Country\"]\n",
    "print(\"Країна з найбільшою кількістю завантажених відео: \", mostUploads)"
   ]
  },
  {
   "cell_type": "code",
   "execution_count": 40,
   "id": "3596a99b",
   "metadata": {},
   "outputs": [
    {
     "name": "stdout",
     "output_type": "stream",
     "text": [
      "Відео з найбільшою кількістю завантажень:  ABP NEWS\n",
      "Відео з найменшою кількістю завантажень:  Music\n"
     ]
    }
   ],
   "source": [
    "#10. Знайдіть відео (виведіть його назву) з найбільшою та найменшою кількістю завантажень uploads.\n",
    "titleMostUploads = df.loc[df[\"uploads\"].idxmax(), \"Title\"]\n",
    "print(\"Відео з найбільшою кількістю завантажень: \", titleMostUploads)\n",
    "titleLeastUploads = df.loc[df[\"uploads\"].idxmin(), \"Title\"]\n",
    "print(\"Відео з найменшою кількістю завантажень: \", titleLeastUploads)"
   ]
  }
 ],
 "metadata": {
  "kernelspec": {
   "display_name": "Python 3 (ipykernel)",
   "language": "python",
   "name": "python3"
  },
  "language_info": {
   "codemirror_mode": {
    "name": "ipython",
    "version": 3
   },
   "file_extension": ".py",
   "mimetype": "text/x-python",
   "name": "python",
   "nbconvert_exporter": "python",
   "pygments_lexer": "ipython3",
   "version": "3.11.5"
  }
 },
 "nbformat": 4,
 "nbformat_minor": 5
}
