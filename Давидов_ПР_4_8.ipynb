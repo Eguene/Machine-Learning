{
  "nbformat": 4,
  "nbformat_minor": 0,
  "metadata": {
    "colab": {
      "provenance": []
    },
    "kernelspec": {
      "name": "python3",
      "display_name": "Python 3"
    },
    "language_info": {
      "name": "python"
    }
  },
  "cells": [
    {
      "cell_type": "code",
      "execution_count": 11,
      "metadata": {
        "id": "7-H7dYmgOVYR",
        "outputId": "30e632f7-71cc-4190-f4aa-737897813700",
        "colab": {
          "base_uri": "https://localhost:8080/"
        }
      },
      "outputs": [
        {
          "output_type": "stream",
          "name": "stdout",
          "text": [
            "Requirement already satisfied: scikit-surprise in /usr/local/lib/python3.10/dist-packages (1.1.3)\n",
            "Requirement already satisfied: joblib>=1.0.0 in /usr/local/lib/python3.10/dist-packages (from scikit-surprise) (1.3.2)\n",
            "Requirement already satisfied: numpy>=1.17.3 in /usr/local/lib/python3.10/dist-packages (from scikit-surprise) (1.23.5)\n",
            "Requirement already satisfied: scipy>=1.3.2 in /usr/local/lib/python3.10/dist-packages (from scikit-surprise) (1.11.3)\n",
            "Evaluating RMSE, MAE of algorithm SVD on 5 split(s).\n",
            "\n",
            "                  Fold 1  Fold 2  Fold 3  Fold 4  Fold 5  Mean    Std     \n",
            "RMSE (testset)    0.9320  0.9367  0.9240  0.9499  0.9305  0.9346  0.0086  \n",
            "MAE (testset)     0.7342  0.7388  0.7264  0.7505  0.7332  0.7366  0.0080  \n",
            "Fit time          1.71    1.76    1.40    1.40    1.42    1.54    0.16    \n",
            "Test time         0.22    0.24    0.12    0.12    0.23    0.19    0.05    \n"
          ]
        },
        {
          "output_type": "execute_result",
          "data": {
            "text/plain": [
              "{'test_rmse': array([0.9319951 , 0.93666871, 0.92402881, 0.94990908, 0.9305477 ]),\n",
              " 'test_mae': array([0.73422487, 0.73875146, 0.72636825, 0.75047699, 0.73319925]),\n",
              " 'fit_time': (1.7128820419311523,\n",
              "  1.7575912475585938,\n",
              "  1.395437240600586,\n",
              "  1.3952395915985107,\n",
              "  1.41884183883667),\n",
              " 'test_time': (0.2174358367919922,\n",
              "  0.23967385292053223,\n",
              "  0.12321662902832031,\n",
              "  0.12339496612548828,\n",
              "  0.2323465347290039)}"
            ]
          },
          "metadata": {},
          "execution_count": 11
        }
      ],
      "source": [
        "!pip install scikit-surprise\n",
        "\n",
        "from surprise import SVD\n",
        "from surprise import Dataset\n",
        "from surprise.model_selection import cross_validate\n",
        "\n",
        "data = Dataset.load_builtin(name='ml-100k', prompt=False)\n",
        "\n",
        "SVDalg = SVD()\n",
        "\n",
        "cross_validate(SVDalg, data, measures=['RMSE', 'MAE'], cv=5, verbose=True)"
      ]
    },
    {
      "cell_type": "code",
      "source": [
        "from surprise import accuracy\n",
        "from sklearn.metrics import mean_absolute_error\n",
        "from surprise.model_selection import train_test_split\n",
        "\n",
        "trainset, testset = train_test_split(data, test_size=.25)\n",
        "\n",
        "SVDalg = SVD()\n",
        "\n",
        "SVDalg.fit(trainset)\n",
        "predictions = SVDalg.test(testset)\n",
        "\n",
        "accuracy.rmse(predictions)"
      ],
      "metadata": {
        "id": "xPiLDOOZOW9L",
        "colab": {
          "base_uri": "https://localhost:8080/"
        },
        "outputId": "ac78a45e-46b3-4cf6-f229-37323150d693"
      },
      "execution_count": 12,
      "outputs": [
        {
          "output_type": "stream",
          "name": "stdout",
          "text": [
            "RMSE: 0.9424\n"
          ]
        },
        {
          "output_type": "execute_result",
          "data": {
            "text/plain": [
              "0.942420804367665"
            ]
          },
          "metadata": {},
          "execution_count": 12
        }
      ]
    },
    {
      "cell_type": "code",
      "source": [
        "from surprise.model_selection import GridSearchCV\n",
        "param_grid = {'n_epochs': [5, 10], 'lr_all': [0.002, 0.005],\n",
        "              'reg_all': [0.4, 0.6]}\n",
        "GSearch = GridSearchCV(SVD, param_grid, measures=['rmse', 'mae'], cv=3)\n",
        "\n",
        "GSearch.fit(data)\n",
        "\n",
        "# best RMSE score\n",
        "print(GSearch.best_score['rmse'])\n",
        "\n",
        "# combination of parameters that gave the best RMSE score\n",
        "print(GSearch.best_params['rmse'])"
      ],
      "metadata": {
        "colab": {
          "base_uri": "https://localhost:8080/"
        },
        "id": "pypfXiiEsco2",
        "outputId": "783d0d70-7e85-4f2a-a068-a41bc6369ef3"
      },
      "execution_count": 13,
      "outputs": [
        {
          "output_type": "stream",
          "name": "stdout",
          "text": [
            "0.9637620146031498\n",
            "{'n_epochs': 10, 'lr_all': 0.005, 'reg_all': 0.4}\n"
          ]
        }
      ]
    },
    {
      "cell_type": "code",
      "source": [
        "!pip install sigopt\n",
        "# Pass your API token directly, overriding any environment variables\n",
        "from sigopt import Connection\n",
        "token = Connection(client_token=\"CUWCHIMRWOFKKVRKTUASCBNPAETSYJTXZOIWVLWKEPRLSTCW\")"
      ],
      "metadata": {
        "colab": {
          "base_uri": "https://localhost:8080/"
        },
        "id": "cUYsycl9tGc7",
        "outputId": "1ee16ad6-1dd8-4f17-f025-a062ba3fe1b1"
      },
      "execution_count": 14,
      "outputs": [
        {
          "output_type": "stream",
          "name": "stdout",
          "text": [
            "Requirement already satisfied: sigopt in /usr/local/lib/python3.10/dist-packages (8.8.2)\n",
            "Requirement already satisfied: backoff<2.0.0,>=1.10.0 in /usr/local/lib/python3.10/dist-packages (from sigopt) (1.11.1)\n",
            "Requirement already satisfied: click>=8.0.0 in /usr/local/lib/python3.10/dist-packages (from sigopt) (8.1.7)\n",
            "Requirement already satisfied: GitPython>=2.0.0 in /usr/local/lib/python3.10/dist-packages (from sigopt) (3.1.40)\n",
            "Requirement already satisfied: packaging>=21.3 in /usr/local/lib/python3.10/dist-packages (from sigopt) (23.2)\n",
            "Requirement already satisfied: pypng>=0.0.20 in /usr/local/lib/python3.10/dist-packages (from sigopt) (0.20220715.0)\n",
            "Requirement already satisfied: PyYAML<7,>=5 in /usr/local/lib/python3.10/dist-packages (from sigopt) (6.0.1)\n",
            "Requirement already satisfied: requests<3.0.0,>=2.25.0 in /usr/local/lib/python3.10/dist-packages (from sigopt) (2.31.0)\n",
            "Requirement already satisfied: urllib3<2.0.0,>=1.26.5 in /usr/local/lib/python3.10/dist-packages (from sigopt) (1.26.18)\n",
            "Requirement already satisfied: gitdb<5,>=4.0.1 in /usr/local/lib/python3.10/dist-packages (from GitPython>=2.0.0->sigopt) (4.0.11)\n",
            "Requirement already satisfied: charset-normalizer<4,>=2 in /usr/local/lib/python3.10/dist-packages (from requests<3.0.0,>=2.25.0->sigopt) (3.3.2)\n",
            "Requirement already satisfied: idna<4,>=2.5 in /usr/local/lib/python3.10/dist-packages (from requests<3.0.0,>=2.25.0->sigopt) (3.4)\n",
            "Requirement already satisfied: certifi>=2017.4.17 in /usr/local/lib/python3.10/dist-packages (from requests<3.0.0,>=2.25.0->sigopt) (2023.7.22)\n",
            "Requirement already satisfied: smmap<6,>=3.0.1 in /usr/local/lib/python3.10/dist-packages (from gitdb<5,>=4.0.1->GitPython>=2.0.0->sigopt) (5.0.1)\n"
          ]
        }
      ]
    },
    {
      "cell_type": "code",
      "source": [
        "experiment = token.experiments().create(\n",
        "  name='Surprise Movies-100k Recommender',\n",
        "  # Define which parameters you would like to tune\n",
        "  parameters=[\n",
        "    dict(name='n_epochs', type='int', bounds=dict(min=5, max=10)),\n",
        "    dict(name='lr_all', type='double', bounds=dict(min=0.002, max=0.005)),\n",
        "    dict(name='reg_all', type='double', bounds=dict(min=0.4, max=0.6))\n",
        "  ],\n",
        "  metrics=[\n",
        "    dict(name='RMSE', objective='minimize', strategy='optimize'),\n",
        "    dict(name='MAE', objective='minimize', strategy='store')\n",
        "  ],\n",
        "  parallel_bandwidth=1,\n",
        "  # Define an Observation Budget for your experiment\n",
        "  observation_budget=50,\n",
        ")\n",
        "print(\"Created experiment: https://app.sigopt.com/experiment/\" + experiment.id)"
      ],
      "metadata": {
        "colab": {
          "base_uri": "https://localhost:8080/"
        },
        "id": "Hvbji6FNtOPu",
        "outputId": "8725c366-0353-42b7-ba62-2deb7993c142"
      },
      "execution_count": 15,
      "outputs": [
        {
          "output_type": "stream",
          "name": "stdout",
          "text": [
            "Created experiment: https://app.sigopt.com/experiment/1024216\n"
          ]
        }
      ]
    },
    {
      "cell_type": "code",
      "source": [
        "def create_model(assignments):\n",
        "  SVDalg = SVD(\n",
        "      n_epochs=assignments['n_epochs'],\n",
        "      lr_all=assignments['lr_all'],\n",
        "      reg_all=assignments['reg_all']\n",
        "  ).fit(trainset)\n",
        "  return SVDalg\n",
        "\n",
        "def evaluate_model(assignments):\n",
        "  alg = create_model(assignments)\n",
        "  predictions = alg.test(testset)\n",
        "  # Then compute RMSE and MAE:\n",
        "  return [\n",
        "      dict(name=\"RMSE\", value=accuracy.rmse(predictions)),\n",
        "      dict(name=\"MAE\", value=accuracy.mae(predictions))\n",
        "    ]"
      ],
      "metadata": {
        "id": "tpWODzI0tsSt"
      },
      "execution_count": 16,
      "outputs": []
    },
    {
      "cell_type": "code",
      "source": [
        "while experiment.progress.observation_count < experiment.observation_budget:\n",
        "  suggestion = token.experiments(experiment.id).suggestions().create()\n",
        "  i = 0\n",
        "  value_dicts = evaluate_model(suggestion.assignments)\n",
        "  token.experiments(experiment.id).observations().create(\n",
        "    suggestion=suggestion.id,\n",
        "    values=value_dicts,\n",
        "  )\n",
        "\n",
        "  # Update the experiment object\n",
        "  experiment = token.experiments(experiment.id).fetch()\n",
        "\n",
        "# Fetch the best configuration and explore your experiment\n",
        "all_best_assignments = token.experiments(experiment.id).best_assignments().fetch()\n",
        "# Returns a list of dict-like Observation objects\n",
        "best_assignments = all_best_assignments.data[0].assignments\n",
        "print(\"Best Assignments: \" + str(best_assignments))\n",
        "print(\"Explore your experiment: https://app.sigopt.com/experiment/\" + experiment.id + \"/analysis\")"
      ],
      "metadata": {
        "colab": {
          "base_uri": "https://localhost:8080/"
        },
        "id": "GkjniVwGtvMD",
        "outputId": "5c3dd188-40d3-4338-f4bf-7029abad1e8f"
      },
      "execution_count": 17,
      "outputs": [
        {
          "output_type": "stream",
          "name": "stdout",
          "text": [
            "RMSE: 0.9940\n",
            "MAE:  0.8024\n",
            "RMSE: 0.9713\n",
            "MAE:  0.7792\n",
            "RMSE: 0.9800\n",
            "MAE:  0.7887\n",
            "RMSE: 0.9707\n",
            "MAE:  0.7781\n",
            "RMSE: 0.9736\n",
            "MAE:  0.7809\n",
            "RMSE: 0.9679\n",
            "MAE:  0.7751\n",
            "RMSE: 0.9692\n",
            "MAE:  0.7771\n",
            "RMSE: 0.9656\n",
            "MAE:  0.7732\n",
            "RMSE: 0.9766\n",
            "MAE:  0.7836\n",
            "RMSE: 0.9650\n",
            "MAE:  0.7724\n",
            "RMSE: 0.9648\n",
            "MAE:  0.7722\n",
            "RMSE: 0.9747\n",
            "MAE:  0.7837\n",
            "RMSE: 0.9789\n",
            "MAE:  0.7871\n",
            "RMSE: 0.9833\n",
            "MAE:  0.7910\n",
            "RMSE: 0.9753\n",
            "MAE:  0.7826\n",
            "RMSE: 0.9810\n",
            "MAE:  0.7891\n",
            "RMSE: 0.9752\n",
            "MAE:  0.7842\n",
            "RMSE: 0.9845\n",
            "MAE:  0.7914\n",
            "RMSE: 0.9840\n",
            "MAE:  0.7905\n",
            "RMSE: 0.9956\n",
            "MAE:  0.8035\n",
            "RMSE: 0.9819\n",
            "MAE:  0.7902\n",
            "RMSE: 0.9811\n",
            "MAE:  0.7884\n",
            "RMSE: 0.9679\n",
            "MAE:  0.7756\n",
            "RMSE: 0.9794\n",
            "MAE:  0.7866\n",
            "RMSE: 0.9863\n",
            "MAE:  0.7947\n",
            "RMSE: 0.9922\n",
            "MAE:  0.8003\n",
            "RMSE: 0.9904\n",
            "MAE:  0.7984\n",
            "RMSE: 0.9903\n",
            "MAE:  0.7992\n",
            "RMSE: 0.9677\n",
            "MAE:  0.7754\n",
            "RMSE: 0.9748\n",
            "MAE:  0.7833\n",
            "RMSE: 0.9875\n",
            "MAE:  0.7942\n",
            "RMSE: 0.9705\n",
            "MAE:  0.7784\n",
            "RMSE: 0.9707\n",
            "MAE:  0.7792\n",
            "RMSE: 0.9786\n",
            "MAE:  0.7874\n",
            "RMSE: 0.9800\n",
            "MAE:  0.7878\n",
            "RMSE: 0.9790\n",
            "MAE:  0.7865\n",
            "RMSE: 0.9651\n",
            "MAE:  0.7726\n",
            "RMSE: 0.9894\n",
            "MAE:  0.7977\n",
            "RMSE: 0.9771\n",
            "MAE:  0.7845\n",
            "RMSE: 0.9730\n",
            "MAE:  0.7813\n",
            "RMSE: 0.9919\n",
            "MAE:  0.7988\n",
            "RMSE: 0.9794\n",
            "MAE:  0.7882\n",
            "RMSE: 0.9724\n",
            "MAE:  0.7804\n",
            "RMSE: 0.9852\n",
            "MAE:  0.7933\n",
            "RMSE: 0.9813\n",
            "MAE:  0.7884\n",
            "RMSE: 0.9897\n",
            "MAE:  0.7986\n",
            "RMSE: 0.9730\n",
            "MAE:  0.7800\n",
            "RMSE: 0.9789\n",
            "MAE:  0.7872\n",
            "RMSE: 0.9829\n",
            "MAE:  0.7910\n",
            "RMSE: 0.9834\n",
            "MAE:  0.7916\n",
            "Best Assignments: Assignments({\n",
            "  \"lr_all\": 0.005,\n",
            "  \"n_epochs\": 10,\n",
            "  \"reg_all\": 0.4\n",
            "})\n",
            "Explore your experiment: https://app.sigopt.com/experiment/1024216/analysis\n"
          ]
        },
        {
          "output_type": "stream",
          "name": "stderr",
          "text": [
            "/usr/local/lib/python3.10/dist-packages/sigopt/objects.py:338: RuntimeWarning: The .data field only contains a single page of results, which may be incomplete for large responses. Prefer to use the `.iterate_pages() to ensure that you iterate through all elements in the response.\n",
            "  warnings.warn(\n"
          ]
        }
      ]
    }
  ]
}